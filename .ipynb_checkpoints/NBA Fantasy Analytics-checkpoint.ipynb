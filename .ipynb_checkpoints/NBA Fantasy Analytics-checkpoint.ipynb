{
 "cells": [
  {
   "cell_type": "markdown",
   "metadata": {},
   "source": [
    "## Analyzing Key NBA Statistics"
   ]
  },
  {
   "cell_type": "code",
   "execution_count": 1,
   "metadata": {},
   "outputs": [],
   "source": [
    "# This imports the client\n",
    "from basketball_reference_web_scraper import client"
   ]
  },
  {
   "cell_type": "code",
   "execution_count": 2,
   "metadata": {},
   "outputs": [],
   "source": [
    "from basketball_reference_web_scraper import client\n",
    "\n",
    "# Get 2017-2018 advanced season statistics for all players\n",
    "data = client.players_advanced_season_totals(season_end_year=2018)\n",
    "\n",
    "# The players_advanced_season_totals method also supports all output behavior previously described\n",
    "\n",
    "\n",
    "from basketball_reference_web_scraper import client\n",
    "\n",
    "# Get 2017-2018 season totals for all players\n",
    "data2 = client.players_season_totals(season_end_year=2018)\n",
    "\n",
    "# The players_season_totals method also supports all output behavior previously described\n"
   ]
  },
  {
   "cell_type": "code",
   "execution_count": 3,
   "metadata": {},
   "outputs": [],
   "source": [
    "# load the necessary packages\n",
    "import pandas as pd\n",
    "import numpy as np\n",
    "import matplotlib.pyplot as plt"
   ]
  },
  {
   "cell_type": "code",
   "execution_count": 4,
   "metadata": {
    "scrolled": true
   },
   "outputs": [
    {
     "data": {
      "text/html": [
       "<div>\n",
       "<style scoped>\n",
       "    .dataframe tbody tr th:only-of-type {\n",
       "        vertical-align: middle;\n",
       "    }\n",
       "\n",
       "    .dataframe tbody tr th {\n",
       "        vertical-align: top;\n",
       "    }\n",
       "\n",
       "    .dataframe thead th {\n",
       "        text-align: right;\n",
       "    }\n",
       "</style>\n",
       "<table border=\"1\" class=\"dataframe\">\n",
       "  <thead>\n",
       "    <tr style=\"text-align: right;\">\n",
       "      <th></th>\n",
       "      <th>slug</th>\n",
       "      <th>name</th>\n",
       "      <th>positions</th>\n",
       "      <th>age</th>\n",
       "      <th>team</th>\n",
       "      <th>games_played</th>\n",
       "      <th>minutes_played</th>\n",
       "      <th>player_efficiency_rating</th>\n",
       "      <th>true_shooting_percentage</th>\n",
       "      <th>three_point_attempt_rate</th>\n",
       "      <th>...</th>\n",
       "      <th>usage_percentage</th>\n",
       "      <th>offensive_win_shares</th>\n",
       "      <th>defensive_win_shares</th>\n",
       "      <th>win_shares</th>\n",
       "      <th>win_shares_per_48_minutes</th>\n",
       "      <th>offensive_box_plus_minus</th>\n",
       "      <th>defensive_box_plus_minus</th>\n",
       "      <th>box_plus_minus</th>\n",
       "      <th>value_over_replacement_player</th>\n",
       "      <th>is_combined_totals</th>\n",
       "    </tr>\n",
       "  </thead>\n",
       "  <tbody>\n",
       "    <tr>\n",
       "      <th>0</th>\n",
       "      <td>abrinal01</td>\n",
       "      <td>Álex Abrines</td>\n",
       "      <td>[Position.SHOOTING_GUARD]</td>\n",
       "      <td>24</td>\n",
       "      <td>Team.OKLAHOMA_CITY_THUNDER</td>\n",
       "      <td>75</td>\n",
       "      <td>1134</td>\n",
       "      <td>9.0</td>\n",
       "      <td>0.567</td>\n",
       "      <td>0.759</td>\n",
       "      <td>...</td>\n",
       "      <td>12.7</td>\n",
       "      <td>1.3</td>\n",
       "      <td>1.0</td>\n",
       "      <td>2.2</td>\n",
       "      <td>0.094</td>\n",
       "      <td>-1.9</td>\n",
       "      <td>0.4</td>\n",
       "      <td>-1.5</td>\n",
       "      <td>0.1</td>\n",
       "      <td>False</td>\n",
       "    </tr>\n",
       "    <tr>\n",
       "      <th>1</th>\n",
       "      <td>acyqu01</td>\n",
       "      <td>Quincy Acy</td>\n",
       "      <td>[Position.POWER_FORWARD]</td>\n",
       "      <td>27</td>\n",
       "      <td>Team.BROOKLYN_NETS</td>\n",
       "      <td>70</td>\n",
       "      <td>1359</td>\n",
       "      <td>8.2</td>\n",
       "      <td>0.525</td>\n",
       "      <td>0.800</td>\n",
       "      <td>...</td>\n",
       "      <td>14.4</td>\n",
       "      <td>-0.1</td>\n",
       "      <td>1.1</td>\n",
       "      <td>1.0</td>\n",
       "      <td>0.036</td>\n",
       "      <td>-2.6</td>\n",
       "      <td>0.1</td>\n",
       "      <td>-2.5</td>\n",
       "      <td>-0.2</td>\n",
       "      <td>False</td>\n",
       "    </tr>\n",
       "    <tr>\n",
       "      <th>2</th>\n",
       "      <td>adamsst01</td>\n",
       "      <td>Steven Adams</td>\n",
       "      <td>[Position.CENTER]</td>\n",
       "      <td>24</td>\n",
       "      <td>Team.OKLAHOMA_CITY_THUNDER</td>\n",
       "      <td>76</td>\n",
       "      <td>2487</td>\n",
       "      <td>20.6</td>\n",
       "      <td>0.630</td>\n",
       "      <td>0.003</td>\n",
       "      <td>...</td>\n",
       "      <td>16.7</td>\n",
       "      <td>6.7</td>\n",
       "      <td>3.0</td>\n",
       "      <td>9.7</td>\n",
       "      <td>0.187</td>\n",
       "      <td>1.7</td>\n",
       "      <td>-0.6</td>\n",
       "      <td>1.1</td>\n",
       "      <td>2.0</td>\n",
       "      <td>False</td>\n",
       "    </tr>\n",
       "    <tr>\n",
       "      <th>3</th>\n",
       "      <td>adebaba01</td>\n",
       "      <td>Bam Adebayo</td>\n",
       "      <td>[Position.CENTER]</td>\n",
       "      <td>20</td>\n",
       "      <td>Team.MIAMI_HEAT</td>\n",
       "      <td>69</td>\n",
       "      <td>1368</td>\n",
       "      <td>15.7</td>\n",
       "      <td>0.570</td>\n",
       "      <td>0.021</td>\n",
       "      <td>...</td>\n",
       "      <td>15.9</td>\n",
       "      <td>2.3</td>\n",
       "      <td>1.9</td>\n",
       "      <td>4.2</td>\n",
       "      <td>0.148</td>\n",
       "      <td>-1.1</td>\n",
       "      <td>0.7</td>\n",
       "      <td>-0.4</td>\n",
       "      <td>0.6</td>\n",
       "      <td>False</td>\n",
       "    </tr>\n",
       "    <tr>\n",
       "      <th>4</th>\n",
       "      <td>afflaar01</td>\n",
       "      <td>Arron Afflalo</td>\n",
       "      <td>[Position.SHOOTING_GUARD]</td>\n",
       "      <td>32</td>\n",
       "      <td>Team.ORLANDO_MAGIC</td>\n",
       "      <td>53</td>\n",
       "      <td>682</td>\n",
       "      <td>5.8</td>\n",
       "      <td>0.516</td>\n",
       "      <td>0.432</td>\n",
       "      <td>...</td>\n",
       "      <td>12.5</td>\n",
       "      <td>-0.1</td>\n",
       "      <td>0.2</td>\n",
       "      <td>0.1</td>\n",
       "      <td>0.009</td>\n",
       "      <td>-3.8</td>\n",
       "      <td>-1.5</td>\n",
       "      <td>-5.4</td>\n",
       "      <td>-0.6</td>\n",
       "      <td>False</td>\n",
       "    </tr>\n",
       "  </tbody>\n",
       "</table>\n",
       "<p>5 rows × 28 columns</p>\n",
       "</div>"
      ],
      "text/plain": [
       "        slug           name                  positions  age  \\\n",
       "0  abrinal01   Álex Abrines  [Position.SHOOTING_GUARD]   24   \n",
       "1    acyqu01     Quincy Acy   [Position.POWER_FORWARD]   27   \n",
       "2  adamsst01   Steven Adams          [Position.CENTER]   24   \n",
       "3  adebaba01    Bam Adebayo          [Position.CENTER]   20   \n",
       "4  afflaar01  Arron Afflalo  [Position.SHOOTING_GUARD]   32   \n",
       "\n",
       "                         team  games_played  minutes_played  \\\n",
       "0  Team.OKLAHOMA_CITY_THUNDER            75            1134   \n",
       "1          Team.BROOKLYN_NETS            70            1359   \n",
       "2  Team.OKLAHOMA_CITY_THUNDER            76            2487   \n",
       "3             Team.MIAMI_HEAT            69            1368   \n",
       "4          Team.ORLANDO_MAGIC            53             682   \n",
       "\n",
       "   player_efficiency_rating  true_shooting_percentage  \\\n",
       "0                       9.0                     0.567   \n",
       "1                       8.2                     0.525   \n",
       "2                      20.6                     0.630   \n",
       "3                      15.7                     0.570   \n",
       "4                       5.8                     0.516   \n",
       "\n",
       "   three_point_attempt_rate  ...  usage_percentage  offensive_win_shares  \\\n",
       "0                     0.759  ...              12.7                   1.3   \n",
       "1                     0.800  ...              14.4                  -0.1   \n",
       "2                     0.003  ...              16.7                   6.7   \n",
       "3                     0.021  ...              15.9                   2.3   \n",
       "4                     0.432  ...              12.5                  -0.1   \n",
       "\n",
       "   defensive_win_shares  win_shares  win_shares_per_48_minutes  \\\n",
       "0                   1.0         2.2                      0.094   \n",
       "1                   1.1         1.0                      0.036   \n",
       "2                   3.0         9.7                      0.187   \n",
       "3                   1.9         4.2                      0.148   \n",
       "4                   0.2         0.1                      0.009   \n",
       "\n",
       "   offensive_box_plus_minus  defensive_box_plus_minus  box_plus_minus  \\\n",
       "0                      -1.9                       0.4            -1.5   \n",
       "1                      -2.6                       0.1            -2.5   \n",
       "2                       1.7                      -0.6             1.1   \n",
       "3                      -1.1                       0.7            -0.4   \n",
       "4                      -3.8                      -1.5            -5.4   \n",
       "\n",
       "   value_over_replacement_player  is_combined_totals  \n",
       "0                            0.1               False  \n",
       "1                           -0.2               False  \n",
       "2                            2.0               False  \n",
       "3                            0.6               False  \n",
       "4                           -0.6               False  \n",
       "\n",
       "[5 rows x 28 columns]"
      ]
     },
     "execution_count": 4,
     "metadata": {},
     "output_type": "execute_result"
    }
   ],
   "source": [
    "#Turn numpy array into dataframe\n",
    "nba = pd.DataFrame(data=data, index=None)\n",
    "nba.head(5)"
   ]
  },
  {
   "cell_type": "code",
   "execution_count": 5,
   "metadata": {},
   "outputs": [
    {
     "data": {
      "text/plain": [
       "slug                              object\n",
       "name                              object\n",
       "positions                         object\n",
       "age                                int64\n",
       "team                              object\n",
       "games_played                       int64\n",
       "minutes_played                     int64\n",
       "player_efficiency_rating         float64\n",
       "true_shooting_percentage         float64\n",
       "three_point_attempt_rate         float64\n",
       "free_throw_attempt_rate          float64\n",
       "offensive_rebound_percentage     float64\n",
       "defensive_rebound_percentage     float64\n",
       "total_rebound_percentage         float64\n",
       "assist_percentage                float64\n",
       "steal_percentage                 float64\n",
       "block_percentage                 float64\n",
       "turnover_percentage              float64\n",
       "usage_percentage                 float64\n",
       "offensive_win_shares             float64\n",
       "defensive_win_shares             float64\n",
       "win_shares                       float64\n",
       "win_shares_per_48_minutes        float64\n",
       "offensive_box_plus_minus         float64\n",
       "defensive_box_plus_minus         float64\n",
       "box_plus_minus                   float64\n",
       "value_over_replacement_player    float64\n",
       "is_combined_totals                  bool\n",
       "dtype: object"
      ]
     },
     "execution_count": 5,
     "metadata": {},
     "output_type": "execute_result"
    }
   ],
   "source": [
    "#Check the data types\n",
    "nba.dtypes"
   ]
  },
  {
   "cell_type": "code",
   "execution_count": 6,
   "metadata": {},
   "outputs": [
    {
     "data": {
      "text/plain": [
       "slug                             0\n",
       "name                             0\n",
       "positions                        0\n",
       "age                              0\n",
       "team                             0\n",
       "games_played                     0\n",
       "minutes_played                   0\n",
       "player_efficiency_rating         0\n",
       "true_shooting_percentage         0\n",
       "three_point_attempt_rate         0\n",
       "free_throw_attempt_rate          0\n",
       "offensive_rebound_percentage     0\n",
       "defensive_rebound_percentage     0\n",
       "total_rebound_percentage         0\n",
       "assist_percentage                0\n",
       "steal_percentage                 0\n",
       "block_percentage                 0\n",
       "turnover_percentage              0\n",
       "usage_percentage                 0\n",
       "offensive_win_shares             0\n",
       "defensive_win_shares             0\n",
       "win_shares                       0\n",
       "win_shares_per_48_minutes        0\n",
       "offensive_box_plus_minus         0\n",
       "defensive_box_plus_minus         0\n",
       "box_plus_minus                   0\n",
       "value_over_replacement_player    0\n",
       "is_combined_totals               0\n",
       "dtype: int64"
      ]
     },
     "execution_count": 6,
     "metadata": {},
     "output_type": "execute_result"
    }
   ],
   "source": [
    "#Check num values\n",
    "nba.isnull().sum()"
   ]
  },
  {
   "cell_type": "markdown",
   "metadata": {},
   "source": [
    "#### Now, I would like to look at some features that interact well with PER statistics. PER has become the most commonly used advanced metric. PER measures a player's per-minute productivity.PER takes into account accomplishments, such as field goals, 3-pointers, assists, rebounds, blocks and steals, and negative results, such as missed shots, turnovers and personal fouls. Top players can generally be found at the top of the list, so its a nice snapshot of where players stand in relationship to one another."
   ]
  },
  {
   "cell_type": "code",
   "execution_count": 7,
   "metadata": {},
   "outputs": [
    {
     "data": {
      "text/html": [
       "<div>\n",
       "<style scoped>\n",
       "    .dataframe tbody tr th:only-of-type {\n",
       "        vertical-align: middle;\n",
       "    }\n",
       "\n",
       "    .dataframe tbody tr th {\n",
       "        vertical-align: top;\n",
       "    }\n",
       "\n",
       "    .dataframe thead th {\n",
       "        text-align: right;\n",
       "    }\n",
       "</style>\n",
       "<table border=\"1\" class=\"dataframe\">\n",
       "  <thead>\n",
       "    <tr style=\"text-align: right;\">\n",
       "      <th></th>\n",
       "      <th>slug</th>\n",
       "      <th>name</th>\n",
       "      <th>positions</th>\n",
       "      <th>age</th>\n",
       "      <th>team</th>\n",
       "      <th>games_played</th>\n",
       "      <th>minutes_played</th>\n",
       "      <th>player_efficiency_rating</th>\n",
       "      <th>true_shooting_percentage</th>\n",
       "      <th>three_point_attempt_rate</th>\n",
       "      <th>...</th>\n",
       "      <th>usage_percentage</th>\n",
       "      <th>offensive_win_shares</th>\n",
       "      <th>defensive_win_shares</th>\n",
       "      <th>win_shares</th>\n",
       "      <th>win_shares_per_48_minutes</th>\n",
       "      <th>offensive_box_plus_minus</th>\n",
       "      <th>defensive_box_plus_minus</th>\n",
       "      <th>box_plus_minus</th>\n",
       "      <th>value_over_replacement_player</th>\n",
       "      <th>is_combined_totals</th>\n",
       "    </tr>\n",
       "  </thead>\n",
       "  <tbody>\n",
       "    <tr>\n",
       "      <th>0</th>\n",
       "      <td>abrinal01</td>\n",
       "      <td>Álex Abrines</td>\n",
       "      <td>[Position.SHOOTING_GUARD]</td>\n",
       "      <td>24</td>\n",
       "      <td>Team.OKLAHOMA_CITY_THUNDER</td>\n",
       "      <td>75</td>\n",
       "      <td>1134</td>\n",
       "      <td>9.0</td>\n",
       "      <td>0.567</td>\n",
       "      <td>0.759</td>\n",
       "      <td>...</td>\n",
       "      <td>12.7</td>\n",
       "      <td>1.3</td>\n",
       "      <td>1.0</td>\n",
       "      <td>2.2</td>\n",
       "      <td>0.094</td>\n",
       "      <td>-1.9</td>\n",
       "      <td>0.4</td>\n",
       "      <td>-1.5</td>\n",
       "      <td>0.1</td>\n",
       "      <td>False</td>\n",
       "    </tr>\n",
       "    <tr>\n",
       "      <th>1</th>\n",
       "      <td>acyqu01</td>\n",
       "      <td>Quincy Acy</td>\n",
       "      <td>[Position.POWER_FORWARD]</td>\n",
       "      <td>27</td>\n",
       "      <td>Team.BROOKLYN_NETS</td>\n",
       "      <td>70</td>\n",
       "      <td>1359</td>\n",
       "      <td>8.2</td>\n",
       "      <td>0.525</td>\n",
       "      <td>0.800</td>\n",
       "      <td>...</td>\n",
       "      <td>14.4</td>\n",
       "      <td>-0.1</td>\n",
       "      <td>1.1</td>\n",
       "      <td>1.0</td>\n",
       "      <td>0.036</td>\n",
       "      <td>-2.6</td>\n",
       "      <td>0.1</td>\n",
       "      <td>-2.5</td>\n",
       "      <td>-0.2</td>\n",
       "      <td>False</td>\n",
       "    </tr>\n",
       "    <tr>\n",
       "      <th>2</th>\n",
       "      <td>adamsst01</td>\n",
       "      <td>Steven Adams</td>\n",
       "      <td>[Position.CENTER]</td>\n",
       "      <td>24</td>\n",
       "      <td>Team.OKLAHOMA_CITY_THUNDER</td>\n",
       "      <td>76</td>\n",
       "      <td>2487</td>\n",
       "      <td>20.6</td>\n",
       "      <td>0.630</td>\n",
       "      <td>0.003</td>\n",
       "      <td>...</td>\n",
       "      <td>16.7</td>\n",
       "      <td>6.7</td>\n",
       "      <td>3.0</td>\n",
       "      <td>9.7</td>\n",
       "      <td>0.187</td>\n",
       "      <td>1.7</td>\n",
       "      <td>-0.6</td>\n",
       "      <td>1.1</td>\n",
       "      <td>2.0</td>\n",
       "      <td>False</td>\n",
       "    </tr>\n",
       "    <tr>\n",
       "      <th>3</th>\n",
       "      <td>adebaba01</td>\n",
       "      <td>Bam Adebayo</td>\n",
       "      <td>[Position.CENTER]</td>\n",
       "      <td>20</td>\n",
       "      <td>Team.MIAMI_HEAT</td>\n",
       "      <td>69</td>\n",
       "      <td>1368</td>\n",
       "      <td>15.7</td>\n",
       "      <td>0.570</td>\n",
       "      <td>0.021</td>\n",
       "      <td>...</td>\n",
       "      <td>15.9</td>\n",
       "      <td>2.3</td>\n",
       "      <td>1.9</td>\n",
       "      <td>4.2</td>\n",
       "      <td>0.148</td>\n",
       "      <td>-1.1</td>\n",
       "      <td>0.7</td>\n",
       "      <td>-0.4</td>\n",
       "      <td>0.6</td>\n",
       "      <td>False</td>\n",
       "    </tr>\n",
       "    <tr>\n",
       "      <th>4</th>\n",
       "      <td>afflaar01</td>\n",
       "      <td>Arron Afflalo</td>\n",
       "      <td>[Position.SHOOTING_GUARD]</td>\n",
       "      <td>32</td>\n",
       "      <td>Team.ORLANDO_MAGIC</td>\n",
       "      <td>53</td>\n",
       "      <td>682</td>\n",
       "      <td>5.8</td>\n",
       "      <td>0.516</td>\n",
       "      <td>0.432</td>\n",
       "      <td>...</td>\n",
       "      <td>12.5</td>\n",
       "      <td>-0.1</td>\n",
       "      <td>0.2</td>\n",
       "      <td>0.1</td>\n",
       "      <td>0.009</td>\n",
       "      <td>-3.8</td>\n",
       "      <td>-1.5</td>\n",
       "      <td>-5.4</td>\n",
       "      <td>-0.6</td>\n",
       "      <td>False</td>\n",
       "    </tr>\n",
       "  </tbody>\n",
       "</table>\n",
       "<p>5 rows × 28 columns</p>\n",
       "</div>"
      ],
      "text/plain": [
       "        slug           name                  positions  age  \\\n",
       "0  abrinal01   Álex Abrines  [Position.SHOOTING_GUARD]   24   \n",
       "1    acyqu01     Quincy Acy   [Position.POWER_FORWARD]   27   \n",
       "2  adamsst01   Steven Adams          [Position.CENTER]   24   \n",
       "3  adebaba01    Bam Adebayo          [Position.CENTER]   20   \n",
       "4  afflaar01  Arron Afflalo  [Position.SHOOTING_GUARD]   32   \n",
       "\n",
       "                         team  games_played  minutes_played  \\\n",
       "0  Team.OKLAHOMA_CITY_THUNDER            75            1134   \n",
       "1          Team.BROOKLYN_NETS            70            1359   \n",
       "2  Team.OKLAHOMA_CITY_THUNDER            76            2487   \n",
       "3             Team.MIAMI_HEAT            69            1368   \n",
       "4          Team.ORLANDO_MAGIC            53             682   \n",
       "\n",
       "   player_efficiency_rating  true_shooting_percentage  \\\n",
       "0                       9.0                     0.567   \n",
       "1                       8.2                     0.525   \n",
       "2                      20.6                     0.630   \n",
       "3                      15.7                     0.570   \n",
       "4                       5.8                     0.516   \n",
       "\n",
       "   three_point_attempt_rate  ...  usage_percentage  offensive_win_shares  \\\n",
       "0                     0.759  ...              12.7                   1.3   \n",
       "1                     0.800  ...              14.4                  -0.1   \n",
       "2                     0.003  ...              16.7                   6.7   \n",
       "3                     0.021  ...              15.9                   2.3   \n",
       "4                     0.432  ...              12.5                  -0.1   \n",
       "\n",
       "   defensive_win_shares  win_shares  win_shares_per_48_minutes  \\\n",
       "0                   1.0         2.2                      0.094   \n",
       "1                   1.1         1.0                      0.036   \n",
       "2                   3.0         9.7                      0.187   \n",
       "3                   1.9         4.2                      0.148   \n",
       "4                   0.2         0.1                      0.009   \n",
       "\n",
       "   offensive_box_plus_minus  defensive_box_plus_minus  box_plus_minus  \\\n",
       "0                      -1.9                       0.4            -1.5   \n",
       "1                      -2.6                       0.1            -2.5   \n",
       "2                       1.7                      -0.6             1.1   \n",
       "3                      -1.1                       0.7            -0.4   \n",
       "4                      -3.8                      -1.5            -5.4   \n",
       "\n",
       "   value_over_replacement_player  is_combined_totals  \n",
       "0                            0.1               False  \n",
       "1                           -0.2               False  \n",
       "2                            2.0               False  \n",
       "3                            0.6               False  \n",
       "4                           -0.6               False  \n",
       "\n",
       "[5 rows x 28 columns]"
      ]
     },
     "execution_count": 7,
     "metadata": {},
     "output_type": "execute_result"
    }
   ],
   "source": [
    "#Remove players that have not played more than half of the nba games in 2017\n",
    "nbadata = nba[nba['games_played']>42]\n",
    "nbadata.head()"
   ]
  },
  {
   "cell_type": "code",
   "execution_count": 8,
   "metadata": {},
   "outputs": [
    {
     "data": {
      "text/plain": [
       "<AxesSubplot:ylabel='Frequency'>"
      ]
     },
     "execution_count": 8,
     "metadata": {},
     "output_type": "execute_result"
    },
    {
     "data": {
      "image/png": "[encoded data removed]",
      "text/plain": [
       "<Figure size 432x288 with 1 Axes>"
      ]
     },
     "metadata": {
      "needs_background": "light"
     },
     "output_type": "display_data"
    }
   ],
   "source": [
    "# Distribution of PER among all players in the NBA\n",
    "nbadata['player_efficiency_rating'].plot.hist()"
   ]
  },
  {
   "cell_type": "code",
   "execution_count": 9,
   "metadata": {},
   "outputs": [
    {
     "data": {
      "text/plain": [
       "NormaltestResult(statistic=23.32911246443724, pvalue=8.593055059089773e-06)"
      ]
     },
     "execution_count": 9,
     "metadata": {},
     "output_type": "execute_result"
    }
   ],
   "source": [
    "from scipy import stats\n",
    "stats.normaltest(nbadata['player_efficiency_rating'])"
   ]
  },
  {
   "cell_type": "code",
   "execution_count": 10,
   "metadata": {},
   "outputs": [
    {
     "data": {
      "image/png": "[encoded data removed]",
      "text/plain": [
       "<Figure size 432x288 with 1 Axes>"
      ]
     },
     "metadata": {
      "needs_background": "light"
     },
     "output_type": "display_data"
    }
   ],
   "source": [
    "#Lets look at how player efficiency rating interacts with the other variables.\n",
    "#Interaction with usage rate%\n",
    "plt.scatter(nbadata['player_efficiency_rating'], nbadata['usage_percentage'], alpha=0.4)\n",
    "plt.xlabel('PER')\n",
    "plt.ylabel('USG%')\n",
    "plt.show()"
   ]
  },
  {
   "cell_type": "code",
   "execution_count": 11,
   "metadata": {},
   "outputs": [
    {
     "data": {
      "image/png": "[encoded data removed]",
      "text/plain": [
       "<Figure size 432x288 with 1 Axes>"
      ]
     },
     "metadata": {
      "needs_background": "light"
     },
     "output_type": "display_data"
    }
   ],
   "source": [
    "#Interaction with Win Share\n",
    "plt.scatter(nbadata['player_efficiency_rating'], nbadata['win_shares'], alpha=0.4)\n",
    "plt.xlabel('PER')\n",
    "plt.ylabel('WS')\n",
    "plt.show()"
   ]
  },
  {
   "cell_type": "code",
   "execution_count": 12,
   "metadata": {},
   "outputs": [
    {
     "data": {
      "image/png": "[encoded data removed]",
      "text/plain": [
       "<Figure size 432x288 with 1 Axes>"
      ]
     },
     "metadata": {
      "needs_background": "light"
     },
     "output_type": "display_data"
    }
   ],
   "source": [
    "#Interaction with efficiency differential\n",
    "plt.scatter(nbadata['player_efficiency_rating'], nbadata['box_plus_minus'], alpha=0.4)\n",
    "plt.xlabel('PER')\n",
    "plt.ylabel('BPM')\n",
    "plt.show()"
   ]
  },
  {
   "cell_type": "code",
   "execution_count": 13,
   "metadata": {},
   "outputs": [
    {
     "data": {
      "text/html": [
       "<div>\n",
       "<style scoped>\n",
       "    .dataframe tbody tr th:only-of-type {\n",
       "        vertical-align: middle;\n",
       "    }\n",
       "\n",
       "    .dataframe tbody tr th {\n",
       "        vertical-align: top;\n",
       "    }\n",
       "\n",
       "    .dataframe thead th {\n",
       "        text-align: right;\n",
       "    }\n",
       "</style>\n",
       "<table border=\"1\" class=\"dataframe\">\n",
       "  <thead>\n",
       "    <tr style=\"text-align: right;\">\n",
       "      <th></th>\n",
       "      <th>name</th>\n",
       "      <th>positions</th>\n",
       "      <th>team</th>\n",
       "      <th>player_efficiency_rating</th>\n",
       "      <th>usage_percentage</th>\n",
       "      <th>win_shares</th>\n",
       "      <th>box_plus_minus</th>\n",
       "      <th>value_over_replacement_player</th>\n",
       "    </tr>\n",
       "  </thead>\n",
       "  <tbody>\n",
       "    <tr>\n",
       "      <th>0</th>\n",
       "      <td>Álex Abrines</td>\n",
       "      <td>[Position.SHOOTING_GUARD]</td>\n",
       "      <td>Team.OKLAHOMA_CITY_THUNDER</td>\n",
       "      <td>9.0</td>\n",
       "      <td>12.7</td>\n",
       "      <td>2.2</td>\n",
       "      <td>-1.5</td>\n",
       "      <td>0.1</td>\n",
       "    </tr>\n",
       "    <tr>\n",
       "      <th>1</th>\n",
       "      <td>Quincy Acy</td>\n",
       "      <td>[Position.POWER_FORWARD]</td>\n",
       "      <td>Team.BROOKLYN_NETS</td>\n",
       "      <td>8.2</td>\n",
       "      <td>14.4</td>\n",
       "      <td>1.0</td>\n",
       "      <td>-2.5</td>\n",
       "      <td>-0.2</td>\n",
       "    </tr>\n",
       "    <tr>\n",
       "      <th>2</th>\n",
       "      <td>Steven Adams</td>\n",
       "      <td>[Position.CENTER]</td>\n",
       "      <td>Team.OKLAHOMA_CITY_THUNDER</td>\n",
       "      <td>20.6</td>\n",
       "      <td>16.7</td>\n",
       "      <td>9.7</td>\n",
       "      <td>1.1</td>\n",
       "      <td>2.0</td>\n",
       "    </tr>\n",
       "    <tr>\n",
       "      <th>3</th>\n",
       "      <td>Bam Adebayo</td>\n",
       "      <td>[Position.CENTER]</td>\n",
       "      <td>Team.MIAMI_HEAT</td>\n",
       "      <td>15.7</td>\n",
       "      <td>15.9</td>\n",
       "      <td>4.2</td>\n",
       "      <td>-0.4</td>\n",
       "      <td>0.6</td>\n",
       "    </tr>\n",
       "    <tr>\n",
       "      <th>4</th>\n",
       "      <td>Arron Afflalo</td>\n",
       "      <td>[Position.SHOOTING_GUARD]</td>\n",
       "      <td>Team.ORLANDO_MAGIC</td>\n",
       "      <td>5.8</td>\n",
       "      <td>12.5</td>\n",
       "      <td>0.1</td>\n",
       "      <td>-5.4</td>\n",
       "      <td>-0.6</td>\n",
       "    </tr>\n",
       "  </tbody>\n",
       "</table>\n",
       "</div>"
      ],
      "text/plain": [
       "            name                  positions                        team  \\\n",
       "0   Álex Abrines  [Position.SHOOTING_GUARD]  Team.OKLAHOMA_CITY_THUNDER   \n",
       "1     Quincy Acy   [Position.POWER_FORWARD]          Team.BROOKLYN_NETS   \n",
       "2   Steven Adams          [Position.CENTER]  Team.OKLAHOMA_CITY_THUNDER   \n",
       "3    Bam Adebayo          [Position.CENTER]             Team.MIAMI_HEAT   \n",
       "4  Arron Afflalo  [Position.SHOOTING_GUARD]          Team.ORLANDO_MAGIC   \n",
       "\n",
       "   player_efficiency_rating  usage_percentage  win_shares  box_plus_minus  \\\n",
       "0                       9.0              12.7         2.2            -1.5   \n",
       "1                       8.2              14.4         1.0            -2.5   \n",
       "2                      20.6              16.7         9.7             1.1   \n",
       "3                      15.7              15.9         4.2            -0.4   \n",
       "4                       5.8              12.5         0.1            -5.4   \n",
       "\n",
       "   value_over_replacement_player  \n",
       "0                            0.1  \n",
       "1                           -0.2  \n",
       "2                            2.0  \n",
       "3                            0.6  \n",
       "4                           -0.6  "
      ]
     },
     "execution_count": 13,
     "metadata": {},
     "output_type": "execute_result"
    }
   ],
   "source": [
    "# I selected this variables because they are the most important advanced statistics and commonly used in the NBA.\n",
    "nbaset = nbadata[['name', 'positions', 'team', 'player_efficiency_rating', 'usage_percentage', 'win_shares', 'box_plus_minus', 'value_over_replacement_player']]\n",
    "nbaset.head()"
   ]
  },
  {
   "cell_type": "code",
   "execution_count": 14,
   "metadata": {},
   "outputs": [
    {
     "ename": "ModuleNotFoundError",
     "evalue": "No module named 'openpyxl'",
     "output_type": "error",
     "traceback": [
      "\u001b[0;31m---------------------------------------------------------------------------\u001b[0m",
      "\u001b[0;31mModuleNotFoundError\u001b[0m                       Traceback (most recent call last)",
      "\u001b[0;32m<ipython-input-14-282c08a7284d>\u001b[0m in \u001b[0;36m<module>\u001b[0;34m\u001b[0m\n\u001b[0;32m----> 1\u001b[0;31m \u001b[0mnbaset\u001b[0m\u001b[0;34m.\u001b[0m\u001b[0mto_excel\u001b[0m\u001b[0;34m(\u001b[0m\u001b[0;34m'nbaset.xlsx'\u001b[0m\u001b[0;34m,\u001b[0m \u001b[0mindex\u001b[0m\u001b[0;34m=\u001b[0m\u001b[0;32mFalse\u001b[0m\u001b[0;34m,\u001b[0m \u001b[0mheader\u001b[0m\u001b[0;34m=\u001b[0m\u001b[0;32mTrue\u001b[0m\u001b[0;34m)\u001b[0m\u001b[0;34m\u001b[0m\u001b[0;34m\u001b[0m\u001b[0m\n\u001b[0m",
      "\u001b[0;32m~/.pyenv/versions/3.7.3/lib/python3.7/site-packages/pandas/core/generic.py\u001b[0m in \u001b[0;36mto_excel\u001b[0;34m(self, excel_writer, sheet_name, na_rep, float_format, columns, header, index, index_label, startrow, startcol, engine, merge_cells, encoding, inf_rep, verbose, freeze_panes)\u001b[0m\n\u001b[1;32m   2027\u001b[0m             \u001b[0mstartcol\u001b[0m\u001b[0;34m=\u001b[0m\u001b[0mstartcol\u001b[0m\u001b[0;34m,\u001b[0m\u001b[0;34m\u001b[0m\u001b[0;34m\u001b[0m\u001b[0m\n\u001b[1;32m   2028\u001b[0m             \u001b[0mfreeze_panes\u001b[0m\u001b[0;34m=\u001b[0m\u001b[0mfreeze_panes\u001b[0m\u001b[0;34m,\u001b[0m\u001b[0;34m\u001b[0m\u001b[0;34m\u001b[0m\u001b[0m\n\u001b[0;32m-> 2029\u001b[0;31m             \u001b[0mengine\u001b[0m\u001b[0;34m=\u001b[0m\u001b[0mengine\u001b[0m\u001b[0;34m,\u001b[0m\u001b[0;34m\u001b[0m\u001b[0;34m\u001b[0m\u001b[0m\n\u001b[0m\u001b[1;32m   2030\u001b[0m         )\n\u001b[1;32m   2031\u001b[0m \u001b[0;34m\u001b[0m\u001b[0m\n",
      "\u001b[0;32m~/.pyenv/versions/3.7.3/lib/python3.7/site-packages/pandas/io/formats/excel.py\u001b[0m in \u001b[0;36mwrite\u001b[0;34m(self, writer, sheet_name, startrow, startcol, freeze_panes, engine)\u001b[0m\n\u001b[1;32m    728\u001b[0m             \u001b[0mneed_save\u001b[0m \u001b[0;34m=\u001b[0m \u001b[0;32mFalse\u001b[0m\u001b[0;34m\u001b[0m\u001b[0;34m\u001b[0m\u001b[0m\n\u001b[1;32m    729\u001b[0m         \u001b[0;32melse\u001b[0m\u001b[0;34m:\u001b[0m\u001b[0;34m\u001b[0m\u001b[0;34m\u001b[0m\u001b[0m\n\u001b[0;32m--> 730\u001b[0;31m             \u001b[0mwriter\u001b[0m \u001b[0;34m=\u001b[0m \u001b[0mExcelWriter\u001b[0m\u001b[0;34m(\u001b[0m\u001b[0mstringify_path\u001b[0m\u001b[0;34m(\u001b[0m\u001b[0mwriter\u001b[0m\u001b[0;34m)\u001b[0m\u001b[0;34m,\u001b[0m \u001b[0mengine\u001b[0m\u001b[0;34m=\u001b[0m\u001b[0mengine\u001b[0m\u001b[0;34m)\u001b[0m\u001b[0;34m\u001b[0m\u001b[0;34m\u001b[0m\u001b[0m\n\u001b[0m\u001b[1;32m    731\u001b[0m             \u001b[0mneed_save\u001b[0m \u001b[0;34m=\u001b[0m \u001b[0;32mTrue\u001b[0m\u001b[0;34m\u001b[0m\u001b[0;34m\u001b[0m\u001b[0m\n\u001b[1;32m    732\u001b[0m \u001b[0;34m\u001b[0m\u001b[0m\n",
      "\u001b[0;32m~/.pyenv/versions/3.7.3/lib/python3.7/site-packages/pandas/io/excel/_openpyxl.py\u001b[0m in \u001b[0;36m__init__\u001b[0;34m(self, path, engine, mode, **engine_kwargs)\u001b[0m\n\u001b[1;32m     16\u001b[0m     \u001b[0;32mdef\u001b[0m \u001b[0m__init__\u001b[0m\u001b[0;34m(\u001b[0m\u001b[0mself\u001b[0m\u001b[0;34m,\u001b[0m \u001b[0mpath\u001b[0m\u001b[0;34m,\u001b[0m \u001b[0mengine\u001b[0m\u001b[0;34m=\u001b[0m\u001b[0;32mNone\u001b[0m\u001b[0;34m,\u001b[0m \u001b[0mmode\u001b[0m\u001b[0;34m=\u001b[0m\u001b[0;34m\"w\"\u001b[0m\u001b[0;34m,\u001b[0m \u001b[0;34m**\u001b[0m\u001b[0mengine_kwargs\u001b[0m\u001b[0;34m)\u001b[0m\u001b[0;34m:\u001b[0m\u001b[0;34m\u001b[0m\u001b[0;34m\u001b[0m\u001b[0m\n\u001b[1;32m     17\u001b[0m         \u001b[0;31m# Use the openpyxl module as the Excel writer.\u001b[0m\u001b[0;34m\u001b[0m\u001b[0;34m\u001b[0m\u001b[0;34m\u001b[0m\u001b[0m\n\u001b[0;32m---> 18\u001b[0;31m         \u001b[0;32mfrom\u001b[0m \u001b[0mopenpyxl\u001b[0m\u001b[0;34m.\u001b[0m\u001b[0mworkbook\u001b[0m \u001b[0;32mimport\u001b[0m \u001b[0mWorkbook\u001b[0m\u001b[0;34m\u001b[0m\u001b[0;34m\u001b[0m\u001b[0m\n\u001b[0m\u001b[1;32m     19\u001b[0m \u001b[0;34m\u001b[0m\u001b[0m\n\u001b[1;32m     20\u001b[0m         \u001b[0msuper\u001b[0m\u001b[0;34m(\u001b[0m\u001b[0;34m)\u001b[0m\u001b[0;34m.\u001b[0m\u001b[0m__init__\u001b[0m\u001b[0;34m(\u001b[0m\u001b[0mpath\u001b[0m\u001b[0;34m,\u001b[0m \u001b[0mmode\u001b[0m\u001b[0;34m=\u001b[0m\u001b[0mmode\u001b[0m\u001b[0;34m,\u001b[0m \u001b[0;34m**\u001b[0m\u001b[0mengine_kwargs\u001b[0m\u001b[0;34m)\u001b[0m\u001b[0;34m\u001b[0m\u001b[0;34m\u001b[0m\u001b[0m\n",
      "\u001b[0;31mModuleNotFoundError\u001b[0m: No module named 'openpyxl'"
     ]
    }
   ],
   "source": [
    "nbaset.to_excel('nbaset.xlsx', index=False, header=True)"
   ]
  },
  {
   "cell_type": "code",
   "execution_count": null,
   "metadata": {},
   "outputs": [],
   "source": [
    "#Rename the columns\n",
    "nbaset = nbaset.rename(columns={'player_efficiency_rating':'PER', 'usage_percentage':'USG%','win_shares':'WS','box_plus_minus':'BPM', 'value_over_replacement_player':'VOR'})"
   ]
  },
  {
   "cell_type": "code",
   "execution_count": null,
   "metadata": {
    "scrolled": true
   },
   "outputs": [],
   "source": [
    "# Obtain figure associated with the plot we want to create\n",
    "dfCorrelation = nbaset.corr('kendall')\n",
    "fig = plt.figure()\n",
    "\n",
    "# Create heatmap subplot  \n",
    "plot_axes = fig.add_subplot(111) \n",
    "heatmap = plot_axes.matshow(dfCorrelation, vmin=-1, vmax=1, cmap='hot')\n",
    "\n",
    "# Add a colorbar on the right based on the heatmap\n",
    "fig.colorbar(heatmap, fraction=0.046, pad=0.04)\n",
    "\n",
    "# Create labels with column names\n",
    "ticks = np.arange(0, dfCorrelation.columns.size, 1) # create a numpy array from 0 to column size\n",
    "plot_axes.set_xticks(ticks)\n",
    "plot_axes.set_yticks(ticks)\n",
    "plot_axes.set_yticklabels(dfCorrelation.columns.values)\n",
    "plot_axes.set_xticklabels(dfCorrelation.columns.values)\n",
    "\n",
    "\n",
    "# Set size\n",
    "fig.set_size_inches((10,10))"
   ]
  },
  {
   "cell_type": "code",
   "execution_count": null,
   "metadata": {},
   "outputs": [],
   "source": [
    "# This data shows players in 2017-2018 season that were in the All NBA Team. 0 is a no and 1 as a yes.\n",
    "dataset = pd.read_excel('nbaset.xlsx')\n",
    "dataset.head()"
   ]
  },
  {
   "cell_type": "code",
   "execution_count": null,
   "metadata": {},
   "outputs": [],
   "source": [
    "new_data = pd.merge(nbaset, dataset, on=['name'], how='left')\n",
    "new_data.head()"
   ]
  },
  {
   "cell_type": "code",
   "execution_count": null,
   "metadata": {
    "tags": []
   },
   "outputs": [],
   "source": [
    "#Sort Values by PER\n",
    "PER = new_data.sort_values(by=['PER'], ascending=False).head(10)\n",
    "PER_new = PER[PER['All_NBA_Team'] == 1].shape[0]\n",
    "print('The number of All NBA Team players that are in the top 10 are ' + str(PER_new))"
   ]
  },
  {
   "cell_type": "code",
   "execution_count": null,
   "metadata": {
    "tags": []
   },
   "outputs": [],
   "source": [
    "#Sort Values by USG%\n",
    "USG = new_data.sort_values(by=['USG%'], ascending=False).head(10)\n",
    "USG_new = USG[USG['All_NBA_Team'] == 1].shape[0]\n",
    "print('The number of All NBA Team players that are in the top 10 are ' + str(USG_new))"
   ]
  },
  {
   "cell_type": "code",
   "execution_count": null,
   "metadata": {
    "tags": []
   },
   "outputs": [],
   "source": [
    "#Sort Values by WS\n",
    "WS = new_data.sort_values(by=['WS'], ascending=False).head(10)\n",
    "WS_new = WS[WS['All_NBA_Team'] == 1].shape[0]\n",
    "print('The number of All NBA Team players that are in the top 10 are ' + str(WS_new))"
   ]
  },
  {
   "cell_type": "code",
   "execution_count": null,
   "metadata": {
    "tags": []
   },
   "outputs": [],
   "source": [
    "#Sort Values by BPM\n",
    "BPM = new_data.sort_values(by=['BPM'], ascending=False).head(10)\n",
    "BPM_new = BPM[BPM['All_NBA_Team'] == 1].shape[0]\n",
    "print('The number of All NBA Team players that are in the top 10 are ' + str(BPM_new))"
   ]
  },
  {
   "cell_type": "code",
   "execution_count": null,
   "metadata": {
    "tags": []
   },
   "outputs": [],
   "source": [
    "#Sort Values by VOR\n",
    "VOR = new_data.sort_values(by=['VOR'], ascending=False).head(10)\n",
    "VOR_new = VOR[VOR['All_NBA_Team'] == 1].shape[0]\n",
    "print('The number of All NBA Team players that are in the top 10 are ' + str(VOR_new))"
   ]
  },
  {
   "cell_type": "code",
   "execution_count": null,
   "metadata": {},
   "outputs": [],
   "source": [
    "#Top Player using PER\n",
    "PER.head(1)"
   ]
  },
  {
   "cell_type": "code",
   "execution_count": null,
   "metadata": {},
   "outputs": [],
   "source": [
    "#Top Player using USG\n",
    "USG.head(1)"
   ]
  },
  {
   "cell_type": "code",
   "execution_count": null,
   "metadata": {},
   "outputs": [],
   "source": [
    "#Top Player using WS\n",
    "WS.head(1)"
   ]
  },
  {
   "cell_type": "code",
   "execution_count": null,
   "metadata": {},
   "outputs": [],
   "source": [
    "#Top Player using BPM\n",
    "BPM.head(1)"
   ]
  },
  {
   "cell_type": "code",
   "execution_count": null,
   "metadata": {},
   "outputs": [],
   "source": [
    "#Top Player using VOR\n",
    "VOR.head(1)"
   ]
  },
  {
   "cell_type": "markdown",
   "metadata": {},
   "source": [
    " ### CONCLUSION: We can conclude that the players who have played over 50% of games, while having a high PER or VOR statistics will have a 90% chance of making the ALl NBA Team. Also analyzing the number 1 player of each statistic showed that James Harden was the best player (9/10 statistics he was at the top of the list). He was also the MVP of NBA this year."
   ]
  }
 ],
 "metadata": {
  "kernelspec": {
   "display_name": "Python 3",
   "language": "python",
   "name": "python3"
  },
  "language_info": {
   "codemirror_mode": {
    "name": "ipython",
    "version": 3
   },
   "file_extension": ".py",
   "mimetype": "text/x-python",
   "name": "python",
   "nbconvert_exporter": "python",
   "pygments_lexer": "ipython3",
   "version": "3.7.3"
  }
 },
 "nbformat": 4,
 "nbformat_minor": 2
}
